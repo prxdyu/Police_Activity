{
 "cells": [
  {
   "cell_type": "code",
   "execution_count": 66,
   "id": "7bbd810f",
   "metadata": {},
   "outputs": [],
   "source": [
    "# importing the necessary libraries\n",
    "import pandas as pd\n",
    "import numpy as np\n",
    "import matplotlib.pyplot as plt\n",
    "%matplotlib inline  "
   ]
  },
  {
   "cell_type": "code",
   "execution_count": 2,
   "id": "1ef47f15",
   "metadata": {},
   "outputs": [],
   "source": [
    "# importing the dataset\n",
    "df=pd.read_csv('https://assets.datacamp.com/production/repositories/1497/datasets/62bd9feef451860db02d26553613a299721882e8/police.csv')"
   ]
  },
  {
   "cell_type": "code",
   "execution_count": 3,
   "id": "b7814d9d",
   "metadata": {},
   "outputs": [
    {
     "data": {
      "text/html": [
       "<div>\n",
       "<style scoped>\n",
       "    .dataframe tbody tr th:only-of-type {\n",
       "        vertical-align: middle;\n",
       "    }\n",
       "\n",
       "    .dataframe tbody tr th {\n",
       "        vertical-align: top;\n",
       "    }\n",
       "\n",
       "    .dataframe thead th {\n",
       "        text-align: right;\n",
       "    }\n",
       "</style>\n",
       "<table border=\"1\" class=\"dataframe\">\n",
       "  <thead>\n",
       "    <tr style=\"text-align: right;\">\n",
       "      <th></th>\n",
       "      <th>state</th>\n",
       "      <th>stop_date</th>\n",
       "      <th>stop_time</th>\n",
       "      <th>county_name</th>\n",
       "      <th>driver_gender</th>\n",
       "      <th>driver_race</th>\n",
       "      <th>violation_raw</th>\n",
       "      <th>violation</th>\n",
       "      <th>search_conducted</th>\n",
       "      <th>search_type</th>\n",
       "      <th>stop_outcome</th>\n",
       "      <th>is_arrested</th>\n",
       "      <th>stop_duration</th>\n",
       "      <th>drugs_related_stop</th>\n",
       "      <th>district</th>\n",
       "    </tr>\n",
       "  </thead>\n",
       "  <tbody>\n",
       "    <tr>\n",
       "      <th>0</th>\n",
       "      <td>RI</td>\n",
       "      <td>2005-01-04</td>\n",
       "      <td>12:55</td>\n",
       "      <td>NaN</td>\n",
       "      <td>M</td>\n",
       "      <td>White</td>\n",
       "      <td>Equipment/Inspection Violation</td>\n",
       "      <td>Equipment</td>\n",
       "      <td>False</td>\n",
       "      <td>NaN</td>\n",
       "      <td>Citation</td>\n",
       "      <td>False</td>\n",
       "      <td>0-15 Min</td>\n",
       "      <td>False</td>\n",
       "      <td>Zone X4</td>\n",
       "    </tr>\n",
       "    <tr>\n",
       "      <th>1</th>\n",
       "      <td>RI</td>\n",
       "      <td>2005-01-23</td>\n",
       "      <td>23:15</td>\n",
       "      <td>NaN</td>\n",
       "      <td>M</td>\n",
       "      <td>White</td>\n",
       "      <td>Speeding</td>\n",
       "      <td>Speeding</td>\n",
       "      <td>False</td>\n",
       "      <td>NaN</td>\n",
       "      <td>Citation</td>\n",
       "      <td>False</td>\n",
       "      <td>0-15 Min</td>\n",
       "      <td>False</td>\n",
       "      <td>Zone K3</td>\n",
       "    </tr>\n",
       "    <tr>\n",
       "      <th>2</th>\n",
       "      <td>RI</td>\n",
       "      <td>2005-02-17</td>\n",
       "      <td>04:15</td>\n",
       "      <td>NaN</td>\n",
       "      <td>M</td>\n",
       "      <td>White</td>\n",
       "      <td>Speeding</td>\n",
       "      <td>Speeding</td>\n",
       "      <td>False</td>\n",
       "      <td>NaN</td>\n",
       "      <td>Citation</td>\n",
       "      <td>False</td>\n",
       "      <td>0-15 Min</td>\n",
       "      <td>False</td>\n",
       "      <td>Zone X4</td>\n",
       "    </tr>\n",
       "    <tr>\n",
       "      <th>3</th>\n",
       "      <td>RI</td>\n",
       "      <td>2005-02-20</td>\n",
       "      <td>17:15</td>\n",
       "      <td>NaN</td>\n",
       "      <td>M</td>\n",
       "      <td>White</td>\n",
       "      <td>Call for Service</td>\n",
       "      <td>Other</td>\n",
       "      <td>False</td>\n",
       "      <td>NaN</td>\n",
       "      <td>Arrest Driver</td>\n",
       "      <td>True</td>\n",
       "      <td>16-30 Min</td>\n",
       "      <td>False</td>\n",
       "      <td>Zone X1</td>\n",
       "    </tr>\n",
       "    <tr>\n",
       "      <th>4</th>\n",
       "      <td>RI</td>\n",
       "      <td>2005-02-24</td>\n",
       "      <td>01:20</td>\n",
       "      <td>NaN</td>\n",
       "      <td>F</td>\n",
       "      <td>White</td>\n",
       "      <td>Speeding</td>\n",
       "      <td>Speeding</td>\n",
       "      <td>False</td>\n",
       "      <td>NaN</td>\n",
       "      <td>Citation</td>\n",
       "      <td>False</td>\n",
       "      <td>0-15 Min</td>\n",
       "      <td>False</td>\n",
       "      <td>Zone X3</td>\n",
       "    </tr>\n",
       "  </tbody>\n",
       "</table>\n",
       "</div>"
      ],
      "text/plain": [
       "  state   stop_date stop_time  county_name driver_gender driver_race  \\\n",
       "0    RI  2005-01-04     12:55          NaN             M       White   \n",
       "1    RI  2005-01-23     23:15          NaN             M       White   \n",
       "2    RI  2005-02-17     04:15          NaN             M       White   \n",
       "3    RI  2005-02-20     17:15          NaN             M       White   \n",
       "4    RI  2005-02-24     01:20          NaN             F       White   \n",
       "\n",
       "                    violation_raw  violation  search_conducted search_type  \\\n",
       "0  Equipment/Inspection Violation  Equipment             False         NaN   \n",
       "1                        Speeding   Speeding             False         NaN   \n",
       "2                        Speeding   Speeding             False         NaN   \n",
       "3                Call for Service      Other             False         NaN   \n",
       "4                        Speeding   Speeding             False         NaN   \n",
       "\n",
       "    stop_outcome is_arrested stop_duration  drugs_related_stop district  \n",
       "0       Citation       False      0-15 Min               False  Zone X4  \n",
       "1       Citation       False      0-15 Min               False  Zone K3  \n",
       "2       Citation       False      0-15 Min               False  Zone X4  \n",
       "3  Arrest Driver        True     16-30 Min               False  Zone X1  \n",
       "4       Citation       False      0-15 Min               False  Zone X3  "
      ]
     },
     "execution_count": 3,
     "metadata": {},
     "output_type": "execute_result"
    }
   ],
   "source": [
    "df.head()"
   ]
  },
  {
   "cell_type": "code",
   "execution_count": 4,
   "id": "379c392a",
   "metadata": {},
   "outputs": [
    {
     "data": {
      "text/plain": [
       "(91741, 15)"
      ]
     },
     "execution_count": 4,
     "metadata": {},
     "output_type": "execute_result"
    }
   ],
   "source": [
    "# chekcing the shape of the dataframe\n",
    "df.shape"
   ]
  },
  {
   "cell_type": "code",
   "execution_count": 5,
   "id": "2fea6c4a",
   "metadata": {},
   "outputs": [
    {
     "data": {
      "text/plain": [
       "state                     0\n",
       "stop_date                 0\n",
       "stop_time                 0\n",
       "county_name           91741\n",
       "driver_gender          5205\n",
       "driver_race            5202\n",
       "violation_raw          5202\n",
       "violation              5202\n",
       "search_conducted          0\n",
       "search_type           88434\n",
       "stop_outcome           5202\n",
       "is_arrested            5202\n",
       "stop_duration          5202\n",
       "drugs_related_stop        0\n",
       "district                  0\n",
       "dtype: int64"
      ]
     },
     "execution_count": 5,
     "metadata": {},
     "output_type": "execute_result"
    }
   ],
   "source": [
    "# counting the number of null values in each column\n",
    "df.isna().sum()"
   ]
  },
  {
   "cell_type": "code",
   "execution_count": 6,
   "id": "d2214925",
   "metadata": {},
   "outputs": [],
   "source": [
    "# dropping the county and state columns since it has no use in our analysis\n",
    "df.drop(columns=['county_name','state'],inplace=True)"
   ]
  },
  {
   "cell_type": "code",
   "execution_count": 7,
   "id": "eb7bc474",
   "metadata": {},
   "outputs": [],
   "source": [
    "# since we are analyzing the police behaviour on gender a row with missing value on gender would be not useful so removing it\n",
    "df.dropna(subset=['driver_gender'],inplace=True)"
   ]
  },
  {
   "cell_type": "code",
   "execution_count": 8,
   "id": "0caebeea",
   "metadata": {},
   "outputs": [
    {
     "data": {
      "text/plain": [
       "(86536, 13)"
      ]
     },
     "execution_count": 8,
     "metadata": {},
     "output_type": "execute_result"
    }
   ],
   "source": [
    "# checking again the shape of the df. We have removed 2 columns and 5205 rows\n",
    "\n",
    "df.shape"
   ]
  },
  {
   "cell_type": "code",
   "execution_count": 9,
   "id": "b3bcc141",
   "metadata": {},
   "outputs": [
    {
     "data": {
      "text/plain": [
       "dtype('O')"
      ]
     },
     "execution_count": 9,
     "metadata": {},
     "output_type": "execute_result"
    }
   ],
   "source": [
    "# checking the dtype of the is_arrested column\n",
    "df.is_arrested.dtype"
   ]
  },
  {
   "cell_type": "code",
   "execution_count": 10,
   "id": "0ece5994",
   "metadata": {},
   "outputs": [],
   "source": [
    "# it needs to be converted into the bool type so  chaning the dtype of the is_arrested column to the bool type\n",
    "df['is_arrested']=df['is_arrested'].astype('bool')"
   ]
  },
  {
   "cell_type": "code",
   "execution_count": 11,
   "id": "612430d8",
   "metadata": {},
   "outputs": [],
   "source": [
    "# concatenating the stop_date and stop_time column \n",
    "combined=df['stop_date'].str.cat(df['stop_time'],sep=' ')\n",
    "df['stop_datetime']=combined\n",
    "\n",
    "# converting it into datetime dtype\n",
    "df['stop_datetime']=pd.to_datetime(df['stop_datetime'])"
   ]
  },
  {
   "cell_type": "code",
   "execution_count": 12,
   "id": "63c1a665",
   "metadata": {},
   "outputs": [
    {
     "data": {
      "text/plain": [
       "stop_date                     object\n",
       "stop_time                     object\n",
       "driver_gender                 object\n",
       "driver_race                   object\n",
       "violation_raw                 object\n",
       "violation                     object\n",
       "search_conducted                bool\n",
       "search_type                   object\n",
       "stop_outcome                  object\n",
       "is_arrested                     bool\n",
       "stop_duration                 object\n",
       "drugs_related_stop              bool\n",
       "district                      object\n",
       "stop_datetime         datetime64[ns]\n",
       "dtype: object"
      ]
     },
     "execution_count": 12,
     "metadata": {},
     "output_type": "execute_result"
    }
   ],
   "source": [
    "# checking the dtypes of the columns\n",
    "df.dtypes"
   ]
  },
  {
   "cell_type": "code",
   "execution_count": 13,
   "id": "d213ea22",
   "metadata": {},
   "outputs": [],
   "source": [
    "# making it as the index\n",
    "df.set_index('stop_datetime',inplace=True)"
   ]
  },
  {
   "cell_type": "code",
   "execution_count": 14,
   "id": "feb4d4fd",
   "metadata": {},
   "outputs": [
    {
     "data": {
      "text/plain": [
       "Speeding               0.559571\n",
       "Moving violation       0.187483\n",
       "Equipment              0.126202\n",
       "Other                  0.050950\n",
       "Registration/plates    0.042791\n",
       "Seat belt              0.033004\n",
       "Name: violation, dtype: float64"
      ]
     },
     "execution_count": 14,
     "metadata": {},
     "output_type": "execute_result"
    }
   ],
   "source": [
    "# checking unique values in the viloation column\n",
    "df.violation.unique()\n",
    "\n",
    "# counting the number of violation\n",
    "df.violation.value_counts(normalize=True)"
   ]
  },
  {
   "cell_type": "code",
   "execution_count": 15,
   "id": "1f2c3746",
   "metadata": {},
   "outputs": [],
   "source": [
    "# creating a dataframe for females\n",
    "female=df[df['driver_gender']=='F']\n",
    "\n",
    "# creating a dataframe for male\n",
    "male=df[df['driver_gender']=='M']"
   ]
  },
  {
   "cell_type": "code",
   "execution_count": 16,
   "id": "e496c4c6",
   "metadata": {},
   "outputs": [
    {
     "name": "stdout",
     "output_type": "stream",
     "text": [
      "Speeding               0.658114\n",
      "Moving violation       0.138218\n",
      "Equipment              0.105199\n",
      "Registration/plates    0.044418\n",
      "Other                  0.029738\n",
      "Seat belt              0.024312\n",
      "Name: violation, dtype: float64\n"
     ]
    }
   ],
   "source": [
    "# Compute the violations by female drivers (as proportions)\n",
    "print(female.violation.value_counts(normalize=True))"
   ]
  },
  {
   "cell_type": "code",
   "execution_count": 17,
   "id": "fc91b735",
   "metadata": {},
   "outputs": [
    {
     "name": "stdout",
     "output_type": "stream",
     "text": [
      "Speeding               0.522243\n",
      "Moving violation       0.206144\n",
      "Equipment              0.134158\n",
      "Other                  0.058985\n",
      "Registration/plates    0.042175\n",
      "Seat belt              0.036296\n",
      "Name: violation, dtype: float64\n"
     ]
    }
   ],
   "source": [
    "# Compute the violations by male drivers (as proportions)\n",
    "print(male.violation.value_counts(normalize=True))"
   ]
  },
  {
   "cell_type": "code",
   "execution_count": 18,
   "id": "908f77eb",
   "metadata": {},
   "outputs": [
    {
     "data": {
      "text/plain": [
       "Citation            95.22\n",
       "Warning              4.01\n",
       "Arrest Driver        0.58\n",
       "N/D                  0.10\n",
       "Arrest Passenger     0.06\n",
       "No Action            0.04\n",
       "Name: stop_outcome, dtype: float64"
      ]
     },
     "execution_count": 18,
     "metadata": {},
     "output_type": "execute_result"
    }
   ],
   "source": [
    "# females stopped for sppeding\n",
    "females_and_speeding=df[(df['driver_gender']=='F') & (df['violation']=='Speeding')]\n",
    "\n",
    "# checking what is the outcome for the females stopped for speeding\n",
    "(females_and_speeding.stop_outcome.value_counts(normalize=True)*100).round(decimals=2)"
   ]
  },
  {
   "cell_type": "code",
   "execution_count": 19,
   "id": "981fd19d",
   "metadata": {},
   "outputs": [
    {
     "data": {
      "text/plain": [
       "Citation            94.46\n",
       "Warning              3.62\n",
       "Arrest Driver        1.59\n",
       "Arrest Passenger     0.13\n",
       "No Action            0.11\n",
       "N/D                  0.10\n",
       "Name: stop_outcome, dtype: float64"
      ]
     },
     "execution_count": 19,
     "metadata": {},
     "output_type": "execute_result"
    }
   ],
   "source": [
    "# males stopped for speeding\n",
    "males_and_speeding=df[(df['driver_gender']=='M') & (df['violation']=='Speeding')]\n",
    "\n",
    "# checking what is the outcome for the males stopped for speeding\n",
    "(males_and_speeding.stop_outcome.value_counts(normalize=True)*100).round(decimals=2)"
   ]
  },
  {
   "cell_type": "markdown",
   "id": "db291778",
   "metadata": {},
   "source": [
    " The numbers are similar for males and females: about 95% of stops for speeding result in a ticket. Thus, the data fails to show that gender has an impact on who gets a ticket for speeding."
   ]
  },
  {
   "cell_type": "markdown",
   "id": "6adef4ea",
   "metadata": {},
   "source": [
    "#### Checking Does the driver's gender affect whether their vehicle is searched?"
   ]
  },
  {
   "cell_type": "code",
   "execution_count": 20,
   "id": "e6f00282",
   "metadata": {},
   "outputs": [
    {
     "name": "stdout",
     "output_type": "stream",
     "text": [
      "False    96.18\n",
      "True      3.82\n",
      "Name: search_conducted, dtype: float64\n"
     ]
    }
   ],
   "source": [
    "# Calculate the search rate by counting the values\n",
    "print((df.search_conducted.value_counts(normalize=True)*100).round(decimals=2))\n"
   ]
  },
  {
   "cell_type": "code",
   "execution_count": 21,
   "id": "1529505a",
   "metadata": {},
   "outputs": [
    {
     "data": {
      "text/plain": [
       "driver_gender\n",
       "F    0.191806\n",
       "M    0.454256\n",
       "Name: search_conducted, dtype: float64"
      ]
     },
     "execution_count": 21,
     "metadata": {},
     "output_type": "execute_result"
    }
   ],
   "source": [
    "# calculating the search rate for both and females\n",
    "df.groupby('driver_gender')['search_conducted'].mean()*10"
   ]
  },
  {
   "cell_type": "code",
   "execution_count": 22,
   "id": "10d15013",
   "metadata": {},
   "outputs": [
    {
     "data": {
      "text/plain": [
       "driver_gender  violation          \n",
       "F              Equipment              0.399840\n",
       "               Moving violation       0.392575\n",
       "               Other                  0.410184\n",
       "               Registration/plates    0.549242\n",
       "               Seat belt              0.173010\n",
       "               Speeding               0.083088\n",
       "M              Equipment              0.714964\n",
       "               Moving violation       0.615242\n",
       "               Other                  0.461912\n",
       "               Registration/plates    1.088024\n",
       "               Seat belt              0.351185\n",
       "               Speeding               0.278854\n",
       "Name: search_conducted, dtype: float64"
      ]
     },
     "execution_count": 22,
     "metadata": {},
     "output_type": "execute_result"
    }
   ],
   "source": [
    "# Calculate the search rate for each combination of gender and violation\n",
    "df.groupby(['driver_gender','violation']).search_conducted.mean()*10"
   ]
  },
  {
   "cell_type": "code",
   "execution_count": 23,
   "id": "4f308d60",
   "metadata": {},
   "outputs": [
    {
     "data": {
      "text/plain": [
       "Incident to Arrest                                          1290\n",
       "Probable Cause                                               924\n",
       "Inventory                                                    219\n",
       "Reasonable Suspicion                                         214\n",
       "Protective Frisk                                             164\n",
       "Incident to Arrest,Inventory                                 123\n",
       "Incident to Arrest,Probable Cause                            100\n",
       "Probable Cause,Reasonable Suspicion                           54\n",
       "Incident to Arrest,Inventory,Probable Cause                   35\n",
       "Probable Cause,Protective Frisk                               35\n",
       "Incident to Arrest,Protective Frisk                           33\n",
       "Inventory,Probable Cause                                      25\n",
       "Protective Frisk,Reasonable Suspicion                         19\n",
       "Incident to Arrest,Inventory,Protective Frisk                 18\n",
       "Incident to Arrest,Probable Cause,Protective Frisk            13\n",
       "Inventory,Protective Frisk                                    12\n",
       "Incident to Arrest,Reasonable Suspicion                        8\n",
       "Probable Cause,Protective Frisk,Reasonable Suspicion           5\n",
       "Incident to Arrest,Probable Cause,Reasonable Suspicion         5\n",
       "Incident to Arrest,Inventory,Reasonable Suspicion              4\n",
       "Incident to Arrest,Protective Frisk,Reasonable Suspicion       2\n",
       "Inventory,Reasonable Suspicion                                 2\n",
       "Inventory,Protective Frisk,Reasonable Suspicion                1\n",
       "Inventory,Probable Cause,Reasonable Suspicion                  1\n",
       "Inventory,Probable Cause,Protective Frisk                      1\n",
       "Name: search_type, dtype: int64"
      ]
     },
     "execution_count": 23,
     "metadata": {},
     "output_type": "execute_result"
    }
   ],
   "source": [
    "# checking the different search types\n",
    "df['search_type'].value_counts()"
   ]
  },
  {
   "cell_type": "code",
   "execution_count": 24,
   "id": "7488f770",
   "metadata": {},
   "outputs": [],
   "source": [
    "# checking search types that include the Protective frisk\n",
    "df['frisk']=df['search_type'].str.contains('Protective Frisk',na=False)"
   ]
  },
  {
   "cell_type": "code",
   "execution_count": 25,
   "id": "522779ff",
   "metadata": {},
   "outputs": [
    {
     "data": {
      "text/plain": [
       "303"
      ]
     },
     "execution_count": 25,
     "metadata": {},
     "output_type": "execute_result"
    }
   ],
   "source": [
    "# checking how many search types include the protective frisk\n",
    "df['frisk'].sum()"
   ]
  },
  {
   "cell_type": "code",
   "execution_count": 26,
   "id": "bf27e909",
   "metadata": {},
   "outputs": [
    {
     "name": "stdout",
     "output_type": "stream",
     "text": [
      "Frisk rate: 0.09162382824312065\n",
      "\n",
      "driver_gender\n",
      "F    0.074561\n",
      "M    0.094353\n",
      "Name: frisk, dtype: float64\n"
     ]
    }
   ],
   "source": [
    "# filtering the rows in which search is conducted\n",
    "searched=df[df['search_conducted']==True]\n",
    "\n",
    "# calculating the frisk rate\n",
    "print('Frisk rate:',searched.frisk.mean(),end='\\n\\n')\n",
    "\n",
    "# calculating the frisk rate for each gender\n",
    "print(searched.groupby('driver_gender')['frisk'].mean())"
   ]
  },
  {
   "cell_type": "markdown",
   "id": "9c093083",
   "metadata": {},
   "source": [
    "The frisk rate is higher for males than for females, "
   ]
  },
  {
   "cell_type": "code",
   "execution_count": 27,
   "id": "cfbce079",
   "metadata": {},
   "outputs": [
    {
     "name": "stdout",
     "output_type": "stream",
     "text": [
      "Arrest Rate 0.0355690117407784\n"
     ]
    }
   ],
   "source": [
    "# calculating the arrest rate\n",
    "arrest_rate=df['is_arrested'].mean()\n",
    "print('Arrest Rate',arrest_rate)"
   ]
  },
  {
   "cell_type": "code",
   "execution_count": 28,
   "id": "664de8d8",
   "metadata": {},
   "outputs": [
    {
     "name": "stdout",
     "output_type": "stream",
     "text": [
      "stop_datetime\n",
      "0     0.051431\n",
      "1     0.064932\n",
      "2     0.060798\n",
      "3     0.060549\n",
      "4     0.048000\n",
      "5     0.042781\n",
      "6     0.013813\n",
      "7     0.013032\n",
      "8     0.021854\n",
      "9     0.025206\n",
      "10    0.028213\n",
      "11    0.028897\n",
      "12    0.037399\n",
      "13    0.030776\n",
      "14    0.030605\n",
      "15    0.030679\n",
      "16    0.035281\n",
      "17    0.040619\n",
      "18    0.038204\n",
      "19    0.032245\n",
      "20    0.038107\n",
      "21    0.064541\n",
      "22    0.048666\n",
      "23    0.047592\n",
      "Name: is_arrested, dtype: float64\n"
     ]
    }
   ],
   "source": [
    "# calculating the arrest rate for each hour of the day\n",
    "hourly_arrest_rate=df.groupby(df.index.hour)['is_arrested'].mean()\n",
    "print(hourly_arrest_rate)"
   ]
  },
  {
   "cell_type": "code",
   "execution_count": 29,
   "id": "a3b91ee4",
   "metadata": {},
   "outputs": [
    {
     "data": {
      "text/plain": [
       "Text(0.5, 1.0, 'Arrest rate vs Hours')"
      ]
     },
     "execution_count": 29,
     "metadata": {},
     "output_type": "execute_result"
    },
    {
     "data": {
      "image/png": "[encoded data removed]",
      "text/plain": [
       "<Figure size 432x288 with 1 Axes>"
      ]
     },
     "metadata": {
      "needs_background": "light"
     },
     "output_type": "display_data"
    }
   ],
   "source": [
    "hourly_arrest_rate.plot()\n",
    "plt.xlabel('Hours')\n",
    "plt.ylabel('Arrest rate')\n",
    "plt.title('Arrest rate vs Hours')"
   ]
  },
  {
   "cell_type": "markdown",
   "id": "d031a7c4",
   "metadata": {},
   "source": [
    " The arrest rate has a significant spike overnight, and then dips in the early morning hours."
   ]
  },
  {
   "cell_type": "code",
   "execution_count": 30,
   "id": "fcf47e8b",
   "metadata": {},
   "outputs": [
    {
     "data": {
      "text/plain": [
       "<AxesSubplot:xlabel='stop_datetime'>"
      ]
     },
     "execution_count": 30,
     "metadata": {},
     "output_type": "execute_result"
    },
    {
     "data": {
      "image/png": "[encoded data removed]",
      "text/plain": [
       "<Figure size 432x288 with 1 Axes>"
      ]
     },
     "metadata": {
      "needs_background": "light"
     },
     "output_type": "display_data"
    }
   ],
   "source": [
    "# analyzing drup related stops\n",
    "annual_drug_rate=df.drugs_related_stop.resample('A').mean()\n",
    "\n",
    "# plotting visually\n",
    "annual_drug_rate.plot()"
   ]
  },
  {
   "cell_type": "markdown",
   "id": "3d8dbbc8",
   "metadata": {},
   "source": [
    "The rate of drug-related stops nearly doubled over the course of 10 years."
   ]
  },
  {
   "cell_type": "code",
   "execution_count": 31,
   "id": "a1532524",
   "metadata": {},
   "outputs": [
    {
     "data": {
      "image/png": "[encoded data removed]",
      "text/plain": [
       "<Figure size 432x288 with 2 Axes>"
      ]
     },
     "metadata": {
      "needs_background": "light"
     },
     "output_type": "display_data"
    }
   ],
   "source": [
    "# Calculating and saving the annual search rate (grouping the index by year by resample method)\n",
    "annual_search_rate = df.search_conducted.resample('A').mean()\n",
    "\n",
    "# Concatenating 'annual_drug_rate' and 'annual_search_rate'\n",
    "annual = pd.concat([annual_drug_rate, annual_search_rate], axis='columns')\n",
    "\n",
    "# Creating subplots from 'annual'\n",
    "annual.plot(subplots=True)\n",
    "\n",
    "# Display the subplots\n",
    "plt.show()"
   ]
  },
  {
   "cell_type": "code",
   "execution_count": 43,
   "id": "d29684d8",
   "metadata": {},
   "outputs": [
    {
     "data": {
      "text/html": [
       "<div>\n",
       "<style scoped>\n",
       "    .dataframe tbody tr th:only-of-type {\n",
       "        vertical-align: middle;\n",
       "    }\n",
       "\n",
       "    .dataframe tbody tr th {\n",
       "        vertical-align: top;\n",
       "    }\n",
       "\n",
       "    .dataframe thead th {\n",
       "        text-align: right;\n",
       "    }\n",
       "</style>\n",
       "<table border=\"1\" class=\"dataframe\">\n",
       "  <thead>\n",
       "    <tr style=\"text-align: right;\">\n",
       "      <th>violation</th>\n",
       "      <th>Equipment</th>\n",
       "      <th>Moving violation</th>\n",
       "      <th>Other</th>\n",
       "      <th>Registration/plates</th>\n",
       "      <th>Seat belt</th>\n",
       "      <th>Speeding</th>\n",
       "    </tr>\n",
       "    <tr>\n",
       "      <th>district</th>\n",
       "      <th></th>\n",
       "      <th></th>\n",
       "      <th></th>\n",
       "      <th></th>\n",
       "      <th></th>\n",
       "      <th></th>\n",
       "    </tr>\n",
       "  </thead>\n",
       "  <tbody>\n",
       "    <tr>\n",
       "      <th>Zone K1</th>\n",
       "      <td>672</td>\n",
       "      <td>1254</td>\n",
       "      <td>290</td>\n",
       "      <td>120</td>\n",
       "      <td>0</td>\n",
       "      <td>5960</td>\n",
       "    </tr>\n",
       "    <tr>\n",
       "      <th>Zone K2</th>\n",
       "      <td>2061</td>\n",
       "      <td>2962</td>\n",
       "      <td>942</td>\n",
       "      <td>768</td>\n",
       "      <td>481</td>\n",
       "      <td>10448</td>\n",
       "    </tr>\n",
       "    <tr>\n",
       "      <th>Zone K3</th>\n",
       "      <td>2302</td>\n",
       "      <td>2898</td>\n",
       "      <td>705</td>\n",
       "      <td>695</td>\n",
       "      <td>638</td>\n",
       "      <td>12322</td>\n",
       "    </tr>\n",
       "    <tr>\n",
       "      <th>Zone X1</th>\n",
       "      <td>296</td>\n",
       "      <td>671</td>\n",
       "      <td>143</td>\n",
       "      <td>38</td>\n",
       "      <td>74</td>\n",
       "      <td>1119</td>\n",
       "    </tr>\n",
       "    <tr>\n",
       "      <th>Zone X3</th>\n",
       "      <td>2049</td>\n",
       "      <td>3086</td>\n",
       "      <td>769</td>\n",
       "      <td>671</td>\n",
       "      <td>820</td>\n",
       "      <td>8779</td>\n",
       "    </tr>\n",
       "    <tr>\n",
       "      <th>Zone X4</th>\n",
       "      <td>3541</td>\n",
       "      <td>5353</td>\n",
       "      <td>1560</td>\n",
       "      <td>1411</td>\n",
       "      <td>843</td>\n",
       "      <td>9795</td>\n",
       "    </tr>\n",
       "  </tbody>\n",
       "</table>\n",
       "</div>"
      ],
      "text/plain": [
       "violation  Equipment  Moving violation  Other  Registration/plates  Seat belt  \\\n",
       "district                                                                        \n",
       "Zone K1          672              1254    290                  120          0   \n",
       "Zone K2         2061              2962    942                  768        481   \n",
       "Zone K3         2302              2898    705                  695        638   \n",
       "Zone X1          296               671    143                   38         74   \n",
       "Zone X3         2049              3086    769                  671        820   \n",
       "Zone X4         3541              5353   1560                 1411        843   \n",
       "\n",
       "violation  Speeding  \n",
       "district             \n",
       "Zone K1        5960  \n",
       "Zone K2       10448  \n",
       "Zone K3       12322  \n",
       "Zone X1        1119  \n",
       "Zone X3        8779  \n",
       "Zone X4        9795  "
      ]
     },
     "execution_count": 43,
     "metadata": {},
     "output_type": "execute_result"
    }
   ],
   "source": [
    "# creating a frequency table of violations and district\n",
    "cross=pd.crosstab(df.district,df.violation)\n",
    "cross"
   ]
  },
  {
   "cell_type": "code",
   "execution_count": 46,
   "id": "47c08cc6",
   "metadata": {},
   "outputs": [
    {
     "data": {
      "text/html": [
       "<div>\n",
       "<style scoped>\n",
       "    .dataframe tbody tr th:only-of-type {\n",
       "        vertical-align: middle;\n",
       "    }\n",
       "\n",
       "    .dataframe tbody tr th {\n",
       "        vertical-align: top;\n",
       "    }\n",
       "\n",
       "    .dataframe thead th {\n",
       "        text-align: right;\n",
       "    }\n",
       "</style>\n",
       "<table border=\"1\" class=\"dataframe\">\n",
       "  <thead>\n",
       "    <tr style=\"text-align: right;\">\n",
       "      <th>violation</th>\n",
       "      <th>Equipment</th>\n",
       "      <th>Moving violation</th>\n",
       "      <th>Other</th>\n",
       "      <th>Registration/plates</th>\n",
       "      <th>Seat belt</th>\n",
       "      <th>Speeding</th>\n",
       "    </tr>\n",
       "    <tr>\n",
       "      <th>district</th>\n",
       "      <th></th>\n",
       "      <th></th>\n",
       "      <th></th>\n",
       "      <th></th>\n",
       "      <th></th>\n",
       "      <th></th>\n",
       "    </tr>\n",
       "  </thead>\n",
       "  <tbody>\n",
       "    <tr>\n",
       "      <th>Zone K1</th>\n",
       "      <td>672</td>\n",
       "      <td>1254</td>\n",
       "      <td>290</td>\n",
       "      <td>120</td>\n",
       "      <td>0</td>\n",
       "      <td>5960</td>\n",
       "    </tr>\n",
       "    <tr>\n",
       "      <th>Zone K2</th>\n",
       "      <td>2061</td>\n",
       "      <td>2962</td>\n",
       "      <td>942</td>\n",
       "      <td>768</td>\n",
       "      <td>481</td>\n",
       "      <td>10448</td>\n",
       "    </tr>\n",
       "    <tr>\n",
       "      <th>Zone K3</th>\n",
       "      <td>2302</td>\n",
       "      <td>2898</td>\n",
       "      <td>705</td>\n",
       "      <td>695</td>\n",
       "      <td>638</td>\n",
       "      <td>12322</td>\n",
       "    </tr>\n",
       "  </tbody>\n",
       "</table>\n",
       "</div>"
      ],
      "text/plain": [
       "violation  Equipment  Moving violation  Other  Registration/plates  Seat belt  \\\n",
       "district                                                                        \n",
       "Zone K1          672              1254    290                  120          0   \n",
       "Zone K2         2061              2962    942                  768        481   \n",
       "Zone K3         2302              2898    705                  695        638   \n",
       "\n",
       "violation  Speeding  \n",
       "district             \n",
       "Zone K1        5960  \n",
       "Zone K2       10448  \n",
       "Zone K3       12322  "
      ]
     },
     "execution_count": 46,
     "metadata": {},
     "output_type": "execute_result"
    }
   ],
   "source": [
    "# filerting ZoneK1 to ZoneK2\n",
    "zones=cross.loc['Zone K1':'Zone K3',:]\n",
    "zones"
   ]
  },
  {
   "cell_type": "code",
   "execution_count": 67,
   "id": "78e86fc8",
   "metadata": {},
   "outputs": [
    {
     "data": {
      "text/plain": [
       "<Figure size 1440x720 with 0 Axes>"
      ]
     },
     "metadata": {},
     "output_type": "display_data"
    },
    {
     "data": {
      "image/png": "[encoded data removed]",
      "text/plain": [
       "<Figure size 432x288 with 1 Axes>"
      ]
     },
     "metadata": {
      "needs_background": "light"
     },
     "output_type": "display_data"
    }
   ],
   "source": [
    "plt.gcf().set_size_inches(20, 10)\n",
    "zones.plot(kind='bar')\n",
    "plt.show()"
   ]
  },
  {
   "cell_type": "code",
   "execution_count": 72,
   "id": "a7afde98",
   "metadata": {},
   "outputs": [
    {
     "data": {
      "text/plain": [
       "array([ 8, 23, 45], dtype=int64)"
      ]
     },
     "execution_count": 72,
     "metadata": {},
     "output_type": "execute_result"
    }
   ],
   "source": [
    "# analyzing the stop duration for each violation\n",
    "df.stop_duration.unique()\n",
    "\n",
    "# mapping the stop duration\n",
    "mapper={'0-15 Min':8,'16-30 Min':23,'30+ Min':45}\n",
    "df['stop_minutes']=df.stop_duration.map(mapper)\n",
    "\n",
    "# checking the unique values of stop_minutes column\n",
    "df['stop_minutes'].unique()"
   ]
  },
  {
   "cell_type": "markdown",
   "id": "adfb457e",
   "metadata": {},
   "source": [
    "#### Importing and Validating the weather dataset"
   ]
  },
  {
   "cell_type": "code",
   "execution_count": 75,
   "id": "5102ccb3",
   "metadata": {},
   "outputs": [],
   "source": [
    "# importing the weather dataset in rhode island\n",
    "weather=pd.read_csv('https://assets.datacamp.com/production/repositories/1497/datasets/02f3fb2d4416d3f6626e1117688e0386784e8e55/weather.csv')"
   ]
  },
  {
   "cell_type": "code",
   "execution_count": 77,
   "id": "90d40166",
   "metadata": {},
   "outputs": [
    {
     "data": {
      "text/plain": [
       "Index(['STATION', 'DATE', 'TAVG', 'TMIN', 'TMAX', 'AWND', 'WSF2', 'WT01',\n",
       "       'WT02', 'WT03', 'WT04', 'WT05', 'WT06', 'WT07', 'WT08', 'WT09', 'WT10',\n",
       "       'WT11', 'WT13', 'WT14', 'WT15', 'WT16', 'WT17', 'WT18', 'WT19', 'WT21',\n",
       "       'WT22'],\n",
       "      dtype='object')"
      ]
     },
     "execution_count": 77,
     "metadata": {},
     "output_type": "execute_result"
    }
   ],
   "source": [
    "# checking the columns of the weather dataframe\n",
    "weather.columns"
   ]
  },
  {
   "cell_type": "code",
   "execution_count": 78,
   "id": "d00842c2",
   "metadata": {},
   "outputs": [
    {
     "data": {
      "text/html": [
       "<div>\n",
       "<style scoped>\n",
       "    .dataframe tbody tr th:only-of-type {\n",
       "        vertical-align: middle;\n",
       "    }\n",
       "\n",
       "    .dataframe tbody tr th {\n",
       "        vertical-align: top;\n",
       "    }\n",
       "\n",
       "    .dataframe thead th {\n",
       "        text-align: right;\n",
       "    }\n",
       "</style>\n",
       "<table border=\"1\" class=\"dataframe\">\n",
       "  <thead>\n",
       "    <tr style=\"text-align: right;\">\n",
       "      <th></th>\n",
       "      <th>TAVG</th>\n",
       "      <th>TMIN</th>\n",
       "      <th>TMAX</th>\n",
       "    </tr>\n",
       "  </thead>\n",
       "  <tbody>\n",
       "    <tr>\n",
       "      <th>count</th>\n",
       "      <td>1217.000000</td>\n",
       "      <td>4017.000000</td>\n",
       "      <td>4017.000000</td>\n",
       "    </tr>\n",
       "    <tr>\n",
       "      <th>mean</th>\n",
       "      <td>52.493016</td>\n",
       "      <td>43.484441</td>\n",
       "      <td>61.268608</td>\n",
       "    </tr>\n",
       "    <tr>\n",
       "      <th>std</th>\n",
       "      <td>17.830714</td>\n",
       "      <td>17.020298</td>\n",
       "      <td>18.199517</td>\n",
       "    </tr>\n",
       "    <tr>\n",
       "      <th>min</th>\n",
       "      <td>6.000000</td>\n",
       "      <td>-5.000000</td>\n",
       "      <td>15.000000</td>\n",
       "    </tr>\n",
       "    <tr>\n",
       "      <th>25%</th>\n",
       "      <td>39.000000</td>\n",
       "      <td>30.000000</td>\n",
       "      <td>47.000000</td>\n",
       "    </tr>\n",
       "    <tr>\n",
       "      <th>50%</th>\n",
       "      <td>54.000000</td>\n",
       "      <td>44.000000</td>\n",
       "      <td>62.000000</td>\n",
       "    </tr>\n",
       "    <tr>\n",
       "      <th>75%</th>\n",
       "      <td>68.000000</td>\n",
       "      <td>58.000000</td>\n",
       "      <td>77.000000</td>\n",
       "    </tr>\n",
       "    <tr>\n",
       "      <th>max</th>\n",
       "      <td>86.000000</td>\n",
       "      <td>77.000000</td>\n",
       "      <td>102.000000</td>\n",
       "    </tr>\n",
       "  </tbody>\n",
       "</table>\n",
       "</div>"
      ],
      "text/plain": [
       "              TAVG         TMIN         TMAX\n",
       "count  1217.000000  4017.000000  4017.000000\n",
       "mean     52.493016    43.484441    61.268608\n",
       "std      17.830714    17.020298    18.199517\n",
       "min       6.000000    -5.000000    15.000000\n",
       "25%      39.000000    30.000000    47.000000\n",
       "50%      54.000000    44.000000    62.000000\n",
       "75%      68.000000    58.000000    77.000000\n",
       "max      86.000000    77.000000   102.000000"
      ]
     },
     "execution_count": 78,
     "metadata": {},
     "output_type": "execute_result"
    }
   ],
   "source": [
    "# analyzing the temperature column\n",
    "weather[['TAVG', 'TMIN', 'TMAX']].describe()"
   ]
  },
  {
   "cell_type": "code",
   "execution_count": 79,
   "id": "e6e7b58e",
   "metadata": {},
   "outputs": [
    {
     "data": {
      "text/plain": [
       "<AxesSubplot:>"
      ]
     },
     "execution_count": 79,
     "metadata": {},
     "output_type": "execute_result"
    },
    {
     "data": {
      "image/png": "[encoded data removed]",
      "text/plain": [
       "<Figure size 432x288 with 1 Axes>"
      ]
     },
     "metadata": {
      "needs_background": "light"
     },
     "output_type": "display_data"
    }
   ],
   "source": [
    "# creating a box plot of temperature columns to validate the data\n",
    "weather[['TAVG', 'TMIN', 'TMAX']].plot(kind='box')"
   ]
  },
  {
   "cell_type": "markdown",
   "id": "881b0c9d",
   "metadata": {},
   "source": [
    "The temperature data looks good so far: the TAVG values are in between TMIN and TMAX, and the measurements and ranges seem reasonable."
   ]
  },
  {
   "cell_type": "code",
   "execution_count": 81,
   "id": "6f07a8ee",
   "metadata": {},
   "outputs": [],
   "source": [
    "# creating a column which denotes the difference between the max and min difference\n",
    "weather['TDIFF']=weather['TMAX']-weather['TMIN']"
   ]
  },
  {
   "cell_type": "code",
   "execution_count": 82,
   "id": "6d8583ab",
   "metadata": {},
   "outputs": [
    {
     "data": {
      "text/plain": [
       "<AxesSubplot:>"
      ]
     },
     "execution_count": 82,
     "metadata": {},
     "output_type": "execute_result"
    },
    {
     "data": {
      "image/png": "[encoded data removed]",
      "text/plain": [
       "<Figure size 432x288 with 1 Axes>"
      ]
     },
     "metadata": {
      "needs_background": "light"
     },
     "output_type": "display_data"
    }
   ],
   "source": [
    "# checking the distribution og the TDIFF columns\n",
    "weather['TDIFF'].hist(bins=20)"
   ]
  },
  {
   "cell_type": "markdown",
   "id": "14febb31",
   "metadata": {},
   "source": [
    "it follows the gaussian distribution and it has no negative values"
   ]
  },
  {
   "cell_type": "markdown",
   "id": "a0f24837",
   "metadata": {},
   "source": [
    "#### Preparing the weather dataset\n",
    "The weather DataFrame contains 20 columns that start with 'WT', each of which represents a bad weather condition. For example:\n",
    "\n",
    "- WT05 indicates \"Hail\"\n",
    "- WT11 indicates \"High or damaging winds\"\n",
    "- WT17 indicates \"Freezing rain\"\n",
    "\n",
    "For every row in the dataset, each WT column contains either a 1 (meaning the condition was present that day) or NaN (meaning the condition was not present).\n",
    "\n",
    "#### Determing how bad the weather was for each day"
   ]
  },
  {
   "cell_type": "code",
   "execution_count": 85,
   "id": "9f4cf0cf",
   "metadata": {},
   "outputs": [
    {
     "data": {
      "text/plain": [
       "<AxesSubplot:>"
      ]
     },
     "execution_count": 85,
     "metadata": {},
     "output_type": "execute_result"
    },
    {
     "data": {
      "image/png": "[encoded data removed]",
      "text/plain": [
       "<Figure size 432x288 with 1 Axes>"
      ]
     },
     "metadata": {
      "needs_background": "light"
     },
     "output_type": "display_data"
    }
   ],
   "source": [
    "# Copy 'WT01' through 'WT22' to a new DataFrame\n",
    "WT = weather.loc[:,'WT01':'WT22']\n",
    "\n",
    "# Calculate the sum of each row in 'WT'\n",
    "weather['bad_conditions'] = WT.sum(axis=1)\n",
    "\n",
    "# Replace missing values in 'bad_conditions' with '0'\n",
    "weather['bad_conditions'] = weather.bad_conditions.fillna(0).astype('int')\n",
    "\n",
    "# Create a histogram to visualize 'bad_conditions'\n",
    "weather.bad_conditions.hist()"
   ]
  },
  {
   "cell_type": "markdown",
   "id": "7a2370ee",
   "metadata": {},
   "source": [
    " It looks like many days didn't have any bad weather conditions, and only a small portion of days had more than four bad weather conditions."
   ]
  },
  {
   "cell_type": "code",
   "execution_count": 86,
   "id": "807249c3",
   "metadata": {},
   "outputs": [],
   "source": [
    "# converting the bad_conditions column into categorical column as a new column called rating\n",
    "mapping ={0:'good', 1:'bad', 2:'bad',3:'bad',4:'bad',5:'worse',6:'worse',7:'worse',8:'worse',9:'worse'}\n",
    "weather['rating']=weather['bad_conditions'].map(mapping)"
   ]
  },
  {
   "cell_type": "code",
   "execution_count": 88,
   "id": "bdb987ca",
   "metadata": {},
   "outputs": [],
   "source": [
    "# converting the rating column from categorical to ordinal category\n",
    "cats=pd.CategoricalDtype(['good','bad','worse'],ordered=True)\n",
    "weather['rating']=weather['rating'].astype(cats)"
   ]
  },
  {
   "cell_type": "markdown",
   "id": "421e5ff2",
   "metadata": {},
   "source": [
    "#### Merging the weather and df dataframes to perform our analysis on the behaviour of police based on the weather"
   ]
  },
  {
   "cell_type": "code",
   "execution_count": 91,
   "id": "6ae11955",
   "metadata": {},
   "outputs": [],
   "source": [
    "# restting the index of df\n",
    "df.reset_index(inplace=True)\n",
    "\n",
    "# extracting the date and ratings column from weather dataframe \n",
    "weather_rating=weather.loc[:,['DATE','rating']]"
   ]
  },
  {
   "cell_type": "code",
   "execution_count": 93,
   "id": "97d989af",
   "metadata": {},
   "outputs": [],
   "source": [
    "# merging our df and weather_rating dataframes and storing it in a new dataframe called data\n",
    "data=pd.merge(left=df,right=weather_rating,left_on='stop_date',right_on='DATE',how='left')"
   ]
  },
  {
   "cell_type": "markdown",
   "id": "8a2728eb",
   "metadata": {},
   "source": [
    "#### analyzing the relationship between the police behaviour and weather"
   ]
  },
  {
   "cell_type": "code",
   "execution_count": 95,
   "id": "d2c22e04",
   "metadata": {},
   "outputs": [
    {
     "data": {
      "text/plain": [
       "rating\n",
       "good     0.033715\n",
       "bad      0.036261\n",
       "worse    0.041667\n",
       "Name: is_arrested, dtype: float64"
      ]
     },
     "execution_count": 95,
     "metadata": {},
     "output_type": "execute_result"
    }
   ],
   "source": [
    "# calculating the arrest rate for each weather type\n",
    "data.groupby('rating')['is_arrested'].mean()"
   ]
  },
  {
   "cell_type": "code",
   "execution_count": 104,
   "id": "1d72a69e",
   "metadata": {},
   "outputs": [
    {
     "data": {
      "text/plain": [
       "rating  violation          \n",
       "good    Equipment              0.059007\n",
       "        Moving violation       0.056227\n",
       "        Other                  0.076966\n",
       "        Registration/plates    0.081574\n",
       "        Seat belt              0.028587\n",
       "        Speeding               0.013405\n",
       "bad     Equipment              0.066311\n",
       "        Moving violation       0.058050\n",
       "        Other                  0.087443\n",
       "        Registration/plates    0.098160\n",
       "        Seat belt              0.022493\n",
       "        Speeding               0.013314\n",
       "worse   Equipment              0.097357\n",
       "        Moving violation       0.065860\n",
       "        Other                  0.062893\n",
       "        Registration/plates    0.115625\n",
       "        Seat belt              0.000000\n",
       "        Speeding               0.016886\n",
       "Name: is_arrested, dtype: float64"
      ]
     },
     "execution_count": 104,
     "metadata": {},
     "output_type": "execute_result"
    }
   ],
   "source": [
    "# calculating the arrest rate for each weather type and violation\n",
    "arrest_rate=data.groupby(['rating','violation'])['is_arrested'].mean()\n",
    "arrest_rate"
   ]
  },
  {
   "cell_type": "code",
   "execution_count": 105,
   "id": "bffd3166",
   "metadata": {},
   "outputs": [
    {
     "data": {
      "text/html": [
       "<div>\n",
       "<style scoped>\n",
       "    .dataframe tbody tr th:only-of-type {\n",
       "        vertical-align: middle;\n",
       "    }\n",
       "\n",
       "    .dataframe tbody tr th {\n",
       "        vertical-align: top;\n",
       "    }\n",
       "\n",
       "    .dataframe thead th {\n",
       "        text-align: right;\n",
       "    }\n",
       "</style>\n",
       "<table border=\"1\" class=\"dataframe\">\n",
       "  <thead>\n",
       "    <tr style=\"text-align: right;\">\n",
       "      <th>violation</th>\n",
       "      <th>Equipment</th>\n",
       "      <th>Moving violation</th>\n",
       "      <th>Other</th>\n",
       "      <th>Registration/plates</th>\n",
       "      <th>Seat belt</th>\n",
       "      <th>Speeding</th>\n",
       "    </tr>\n",
       "    <tr>\n",
       "      <th>rating</th>\n",
       "      <th></th>\n",
       "      <th></th>\n",
       "      <th></th>\n",
       "      <th></th>\n",
       "      <th></th>\n",
       "      <th></th>\n",
       "    </tr>\n",
       "  </thead>\n",
       "  <tbody>\n",
       "    <tr>\n",
       "      <th>good</th>\n",
       "      <td>0.059007</td>\n",
       "      <td>0.056227</td>\n",
       "      <td>0.076966</td>\n",
       "      <td>0.081574</td>\n",
       "      <td>0.028587</td>\n",
       "      <td>0.013405</td>\n",
       "    </tr>\n",
       "    <tr>\n",
       "      <th>bad</th>\n",
       "      <td>0.066311</td>\n",
       "      <td>0.058050</td>\n",
       "      <td>0.087443</td>\n",
       "      <td>0.098160</td>\n",
       "      <td>0.022493</td>\n",
       "      <td>0.013314</td>\n",
       "    </tr>\n",
       "    <tr>\n",
       "      <th>worse</th>\n",
       "      <td>0.097357</td>\n",
       "      <td>0.065860</td>\n",
       "      <td>0.062893</td>\n",
       "      <td>0.115625</td>\n",
       "      <td>0.000000</td>\n",
       "      <td>0.016886</td>\n",
       "    </tr>\n",
       "  </tbody>\n",
       "</table>\n",
       "</div>"
      ],
      "text/plain": [
       "violation  Equipment  Moving violation     Other  Registration/plates  \\\n",
       "rating                                                                  \n",
       "good        0.059007          0.056227  0.076966             0.081574   \n",
       "bad         0.066311          0.058050  0.087443             0.098160   \n",
       "worse       0.097357          0.065860  0.062893             0.115625   \n",
       "\n",
       "violation  Seat belt  Speeding  \n",
       "rating                          \n",
       "good        0.028587  0.013405  \n",
       "bad         0.022493  0.013314  \n",
       "worse       0.000000  0.016886  "
      ]
     },
     "execution_count": 105,
     "metadata": {},
     "output_type": "execute_result"
    }
   ],
   "source": [
    "# converting the multi index series into a dataframe\n",
    "arrest_rate.unstack()"
   ]
  },
  {
   "cell_type": "code",
   "execution_count": null,
   "id": "81689460",
   "metadata": {},
   "outputs": [],
   "source": []
  }
 ],
 "metadata": {
  "kernelspec": {
   "display_name": "Python 3 (ipykernel)",
   "language": "python",
   "name": "python3"
  },
  "language_info": {
   "codemirror_mode": {
    "name": "ipython",
    "version": 3
   },
   "file_extension": ".py",
   "mimetype": "text/x-python",
   "name": "python",
   "nbconvert_exporter": "python",
   "pygments_lexer": "ipython3",
   "version": "3.10.2"
  }
 },
 "nbformat": 4,
 "nbformat_minor": 5
}
